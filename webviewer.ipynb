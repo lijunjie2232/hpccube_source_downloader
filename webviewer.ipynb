{
 "cells": [
  {
   "cell_type": "code",
   "execution_count": 1,
   "metadata": {},
   "outputs": [],
   "source": [
    "import requests\n",
    "import json\n",
    "import pandas as pd\n",
    "from File import File\n",
    "from Downloader import Downloader\n",
    "import os"
   ]
  },
  {
   "cell_type": "code",
   "execution_count": 2,
   "metadata": {},
   "outputs": [],
   "source": [
    "session = requests.session()"
   ]
  },
  {
   "cell_type": "markdown",
   "metadata": {},
   "source": [
    "## domain && route"
   ]
  },
  {
   "cell_type": "code",
   "execution_count": 3,
   "metadata": {},
   "outputs": [],
   "source": [
    "domain = \"https://cancon.hpccube.com:65024\"\n",
    "route_driver_info = \"/api/drive/list\"\n",
    "route_list_api = \"/api/list/%d\""
   ]
  },
  {
   "cell_type": "markdown",
   "metadata": {},
   "source": [
    "## Data Form"
   ]
  },
  {
   "cell_type": "code",
   "execution_count": 4,
   "metadata": {},
   "outputs": [],
   "source": [
    "list_data = {\n",
    "    \"path\": \"/\",\n",
    "    \"password\": \"\",\n",
    "    \"orderBy\": \"\",\n",
    "    \"orderDirection\": \"\",\n",
    "}\n"
   ]
  },
  {
   "cell_type": "code",
   "execution_count": 5,
   "metadata": {},
   "outputs": [],
   "source": [
    "resp = json.loads(session.request(\n",
    "    url=domain+route_driver_info,\n",
    "    method=\"get\"\n",
    ").text)\n",
    "assert resp[\"code\"] == 0, resp[\"msg\"]"
   ]
  },
  {
   "cell_type": "code",
   "execution_count": 6,
   "metadata": {},
   "outputs": [
    {
     "data": {
      "text/html": [
       "<div>\n",
       "<style scoped>\n",
       "    .dataframe tbody tr th:only-of-type {\n",
       "        vertical-align: middle;\n",
       "    }\n",
       "\n",
       "    .dataframe tbody tr th {\n",
       "        vertical-align: top;\n",
       "    }\n",
       "\n",
       "    .dataframe thead th {\n",
       "        text-align: right;\n",
       "    }\n",
       "</style>\n",
       "<table border=\"1\" class=\"dataframe\">\n",
       "  <thead>\n",
       "    <tr style=\"text-align: right;\">\n",
       "      <th></th>\n",
       "      <th>id</th>\n",
       "      <th>enable</th>\n",
       "      <th>name</th>\n",
       "      <th>enableCache</th>\n",
       "      <th>autoRefreshCache</th>\n",
       "      <th>type</th>\n",
       "      <th>searchEnable</th>\n",
       "      <th>searchIgnoreCase</th>\n",
       "      <th>searchContainEncryptedFile</th>\n",
       "      <th>orderNum</th>\n",
       "      <th>defaultSwitchToImgMode</th>\n",
       "    </tr>\n",
       "  </thead>\n",
       "  <tbody>\n",
       "    <tr>\n",
       "      <th>0</th>\n",
       "      <td>1</td>\n",
       "      <td>True</td>\n",
       "      <td>DTK Toolkit</td>\n",
       "      <td>False</td>\n",
       "      <td>False</td>\n",
       "      <td>{'key': 'local', 'description': '本地存储'}</td>\n",
       "      <td>False</td>\n",
       "      <td>False</td>\n",
       "      <td>False</td>\n",
       "      <td>None</td>\n",
       "      <td>False</td>\n",
       "    </tr>\n",
       "    <tr>\n",
       "      <th>1</th>\n",
       "      <td>3</td>\n",
       "      <td>True</td>\n",
       "      <td>client</td>\n",
       "      <td>False</td>\n",
       "      <td>False</td>\n",
       "      <td>{'key': 'local', 'description': '本地存储'}</td>\n",
       "      <td>False</td>\n",
       "      <td>False</td>\n",
       "      <td>False</td>\n",
       "      <td>None</td>\n",
       "      <td>False</td>\n",
       "    </tr>\n",
       "    <tr>\n",
       "      <th>2</th>\n",
       "      <td>4</td>\n",
       "      <td>True</td>\n",
       "      <td>AI生态包</td>\n",
       "      <td>False</td>\n",
       "      <td>False</td>\n",
       "      <td>{'key': 'local', 'description': '本地存储'}</td>\n",
       "      <td>False</td>\n",
       "      <td>False</td>\n",
       "      <td>False</td>\n",
       "      <td>None</td>\n",
       "      <td>False</td>\n",
       "    </tr>\n",
       "    <tr>\n",
       "      <th>3</th>\n",
       "      <td>5</td>\n",
       "      <td>True</td>\n",
       "      <td>工具包</td>\n",
       "      <td>False</td>\n",
       "      <td>False</td>\n",
       "      <td>{'key': 'local', 'description': '本地存储'}</td>\n",
       "      <td>False</td>\n",
       "      <td>False</td>\n",
       "      <td>False</td>\n",
       "      <td>None</td>\n",
       "      <td>False</td>\n",
       "    </tr>\n",
       "    <tr>\n",
       "      <th>4</th>\n",
       "      <td>6</td>\n",
       "      <td>True</td>\n",
       "      <td>驱动</td>\n",
       "      <td>False</td>\n",
       "      <td>False</td>\n",
       "      <td>{'key': 'local', 'description': '本地存储'}</td>\n",
       "      <td>False</td>\n",
       "      <td>False</td>\n",
       "      <td>False</td>\n",
       "      <td>None</td>\n",
       "      <td>False</td>\n",
       "    </tr>\n",
       "    <tr>\n",
       "      <th>5</th>\n",
       "      <td>7</td>\n",
       "      <td>True</td>\n",
       "      <td>DCU编程实战 代码</td>\n",
       "      <td>False</td>\n",
       "      <td>False</td>\n",
       "      <td>{'key': 'local', 'description': '本地存储'}</td>\n",
       "      <td>False</td>\n",
       "      <td>False</td>\n",
       "      <td>False</td>\n",
       "      <td>None</td>\n",
       "      <td>False</td>\n",
       "    </tr>\n",
       "    <tr>\n",
       "      <th>6</th>\n",
       "      <td>8</td>\n",
       "      <td>True</td>\n",
       "      <td>隐私计算</td>\n",
       "      <td>False</td>\n",
       "      <td>False</td>\n",
       "      <td>{'key': 'local', 'description': '本地存储'}</td>\n",
       "      <td>False</td>\n",
       "      <td>False</td>\n",
       "      <td>False</td>\n",
       "      <td>None</td>\n",
       "      <td>False</td>\n",
       "    </tr>\n",
       "  </tbody>\n",
       "</table>\n",
       "</div>"
      ],
      "text/plain": [
       "   id  enable         name  enableCache  autoRefreshCache  \\\n",
       "0   1    True  DTK Toolkit        False             False   \n",
       "1   3    True       client        False             False   \n",
       "2   4    True        AI生态包        False             False   \n",
       "3   5    True          工具包        False             False   \n",
       "4   6    True           驱动        False             False   \n",
       "5   7    True   DCU编程实战 代码        False             False   \n",
       "6   8    True         隐私计算        False             False   \n",
       "\n",
       "                                      type  searchEnable  searchIgnoreCase  \\\n",
       "0  {'key': 'local', 'description': '本地存储'}         False             False   \n",
       "1  {'key': 'local', 'description': '本地存储'}         False             False   \n",
       "2  {'key': 'local', 'description': '本地存储'}         False             False   \n",
       "3  {'key': 'local', 'description': '本地存储'}         False             False   \n",
       "4  {'key': 'local', 'description': '本地存储'}         False             False   \n",
       "5  {'key': 'local', 'description': '本地存储'}         False             False   \n",
       "6  {'key': 'local', 'description': '本地存储'}         False             False   \n",
       "\n",
       "   searchContainEncryptedFile orderNum  defaultSwitchToImgMode  \n",
       "0                       False     None                   False  \n",
       "1                       False     None                   False  \n",
       "2                       False     None                   False  \n",
       "3                       False     None                   False  \n",
       "4                       False     None                   False  \n",
       "5                       False     None                   False  \n",
       "6                       False     None                   False  "
      ]
     },
     "execution_count": 6,
     "metadata": {},
     "output_type": "execute_result"
    }
   ],
   "source": [
    "driver_list = pd.DataFrame(resp[\"data\"][\"driveList\"])\n",
    "driver_list\n"
   ]
  },
  {
   "cell_type": "code",
   "execution_count": 7,
   "metadata": {},
   "outputs": [
    {
     "data": {
      "text/plain": [
       "4"
      ]
     },
     "execution_count": 7,
     "metadata": {},
     "output_type": "execute_result"
    }
   ],
   "source": [
    "driver_id = driver_list.iloc[2][\"id\"]\n",
    "driver_id"
   ]
  },
  {
   "cell_type": "code",
   "execution_count": 8,
   "metadata": {},
   "outputs": [
    {
     "name": "stdout",
     "output_type": "stream",
     "text": [
      "1\n",
      "3\n",
      "4\n",
      "5\n",
      "6\n",
      "7\n",
      "8\n"
     ]
    }
   ],
   "source": [
    "for _, row in driver_list.iterrows():\n",
    "    print(row[\"id\"])"
   ]
  },
  {
   "cell_type": "code",
   "execution_count": 9,
   "metadata": {},
   "outputs": [],
   "source": [
    "_DOWNLOADER = Downloader(session)\n",
    "_SAVE_DIR = \"./downloads\""
   ]
  },
  {
   "cell_type": "code",
   "execution_count": 10,
   "metadata": {},
   "outputs": [],
   "source": [
    "from tqdm.notebook import tqdm"
   ]
  },
  {
   "cell_type": "code",
   "execution_count": 11,
   "metadata": {},
   "outputs": [],
   "source": [
    "def dirWalker(dir:File, save_dir=None, donwloader=None, recycle=True, leave=False):\n",
    "    dir_path = os.path.join(dir.get(\"path\"), dir.get(\"name\"))\n",
    "    req_data = list_data.copy()\n",
    "    req_data[\"path\"] = dir_path\n",
    "    resp = json.loads(session.request(\n",
    "        url=domain+route_list_api%driver_id,\n",
    "        method=\"get\",\n",
    "        params=req_data\n",
    "    ).text)\n",
    "    assert resp[\"code\"] == 0, resp[\"msg\"]\n",
    "    \n",
    "    floop = tqdm(resp[\"data\"][\"files\"], desc=dir_path, leave=leave)\n",
    "    for i in floop:\n",
    "        file = File(i)\n",
    "        floop.set_postfix_str(file.get(\"name\"))\n",
    "        if file.isDir() and recycle:\n",
    "            # print(\"dir:\", file.get(\"path\"), file.get(\"name\"))\n",
    "            dirWalker(file, save_dir=None, donwloader=None)\n",
    "        else:\n",
    "            pass\n",
    "            # print(\"file:\", file.get(\"path\"), file.get(\"name\"))\n",
    "            # print(file.get(\"path\"), file.get(\"name\"))\n",
    "            # if donwloader and save_dir:\n",
    "            #     _DOWNLOADER.Download(file, saveDir=save_dir)"
   ]
  },
  {
   "cell_type": "code",
   "execution_count": 12,
   "metadata": {},
   "outputs": [
    {
     "data": {
      "text/plain": [
       "True"
      ]
     },
     "execution_count": 12,
     "metadata": {},
     "output_type": "execute_result"
    }
   ],
   "source": [
    "rootDir = File(\n",
    "        {\n",
    "            'name': \"\",\n",
    "            'time': None,\n",
    "            'size': 0,\n",
    "            'type': \"FOLDER\",\n",
    "            'path': \"/\",\n",
    "            'url': None,\n",
    "        }\n",
    "    )\n",
    "rootDir.isDir()"
   ]
  },
  {
   "cell_type": "code",
   "execution_count": 13,
   "metadata": {},
   "outputs": [
    {
     "ename": "TypeError",
     "evalue": "exceptions must derive from BaseException",
     "output_type": "error",
     "traceback": [
      "\u001b[0;31m---------------------------------------------------------------------------\u001b[0m",
      "\u001b[0;31mTypeError\u001b[0m                                 Traceback (most recent call last)",
      "Cell \u001b[0;32mIn[13], line 1\u001b[0m\n\u001b[0;32m----> 1\u001b[0m \u001b[39mraise\u001b[39;00m(\u001b[39m\"\u001b[39m\u001b[39muser stop\u001b[39m\u001b[39m\"\u001b[39m)\n",
      "\u001b[0;31mTypeError\u001b[0m: exceptions must derive from BaseException"
     ]
    }
   ],
   "source": [
    "raise(\"user stop\")"
   ]
  },
  {
   "cell_type": "code",
   "execution_count": 14,
   "metadata": {},
   "outputs": [],
   "source": [
    "# dirWalker(rootDir, leave=True)"
   ]
  },
  {
   "cell_type": "code",
   "execution_count": 16,
   "metadata": {},
   "outputs": [],
   "source": [
    "list_data[\"path\"] = \"/apex/dtk23.04\"\n",
    "resp = json.loads(session.request(\n",
    "    url=domain+route_list_api%driver_id,\n",
    "    method=\"get\",\n",
    "    params=list_data\n",
    ").text)\n",
    "assert resp[\"code\"] == 0, resp[\"msg\"]"
   ]
  },
  {
   "cell_type": "code",
   "execution_count": 17,
   "metadata": {},
   "outputs": [
    {
     "data": {
      "text/html": [
       "<div>\n",
       "<style scoped>\n",
       "    .dataframe tbody tr th:only-of-type {\n",
       "        vertical-align: middle;\n",
       "    }\n",
       "\n",
       "    .dataframe tbody tr th {\n",
       "        vertical-align: top;\n",
       "    }\n",
       "\n",
       "    .dataframe thead th {\n",
       "        text-align: right;\n",
       "    }\n",
       "</style>\n",
       "<table border=\"1\" class=\"dataframe\">\n",
       "  <thead>\n",
       "    <tr style=\"text-align: right;\">\n",
       "      <th></th>\n",
       "      <th>name</th>\n",
       "      <th>time</th>\n",
       "      <th>size</th>\n",
       "      <th>type</th>\n",
       "      <th>path</th>\n",
       "      <th>url</th>\n",
       "    </tr>\n",
       "  </thead>\n",
       "  <tbody>\n",
       "    <tr>\n",
       "      <th>0</th>\n",
       "      <td>apex-0.1+f49ddd4.abi0.dtk2304.torch1.10-cp37-c...</td>\n",
       "      <td>2023-06-21 12:46</td>\n",
       "      <td>11619213</td>\n",
       "      <td>FILE</td>\n",
       "      <td>/apex/dtk23.04/</td>\n",
       "      <td>https://cancon.hpccube.com:65024/file/4/apex/d...</td>\n",
       "    </tr>\n",
       "    <tr>\n",
       "      <th>1</th>\n",
       "      <td>apex-0.1+f49ddd4.abi0.dtk2304.torch1.10-cp38-c...</td>\n",
       "      <td>2023-06-21 12:46</td>\n",
       "      <td>11624760</td>\n",
       "      <td>FILE</td>\n",
       "      <td>/apex/dtk23.04/</td>\n",
       "      <td>https://cancon.hpccube.com:65024/file/4/apex/d...</td>\n",
       "    </tr>\n",
       "    <tr>\n",
       "      <th>2</th>\n",
       "      <td>apex-0.1+f49ddd4.abi0.dtk2304.torch1.10-cp39-c...</td>\n",
       "      <td>2023-06-21 12:46</td>\n",
       "      <td>11624331</td>\n",
       "      <td>FILE</td>\n",
       "      <td>/apex/dtk23.04/</td>\n",
       "      <td>https://cancon.hpccube.com:65024/file/4/apex/d...</td>\n",
       "    </tr>\n",
       "    <tr>\n",
       "      <th>3</th>\n",
       "      <td>apex-0.1+f49ddd4.abi0.dtk2304.torch1.13-cp37-c...</td>\n",
       "      <td>2023-06-21 12:46</td>\n",
       "      <td>12254105</td>\n",
       "      <td>FILE</td>\n",
       "      <td>/apex/dtk23.04/</td>\n",
       "      <td>https://cancon.hpccube.com:65024/file/4/apex/d...</td>\n",
       "    </tr>\n",
       "    <tr>\n",
       "      <th>4</th>\n",
       "      <td>apex-0.1+f49ddd4.abi0.dtk2304.torch1.13-cp38-c...</td>\n",
       "      <td>2023-06-21 12:46</td>\n",
       "      <td>12257547</td>\n",
       "      <td>FILE</td>\n",
       "      <td>/apex/dtk23.04/</td>\n",
       "      <td>https://cancon.hpccube.com:65024/file/4/apex/d...</td>\n",
       "    </tr>\n",
       "    <tr>\n",
       "      <th>5</th>\n",
       "      <td>apex-0.1+f49ddd4.abi0.dtk2304.torch1.13-cp39-c...</td>\n",
       "      <td>2023-06-21 12:46</td>\n",
       "      <td>12246955</td>\n",
       "      <td>FILE</td>\n",
       "      <td>/apex/dtk23.04/</td>\n",
       "      <td>https://cancon.hpccube.com:65024/file/4/apex/d...</td>\n",
       "    </tr>\n",
       "    <tr>\n",
       "      <th>6</th>\n",
       "      <td>apex-0.1+f49ddd4.abi1.dtk2304.torch1.10-cp37-c...</td>\n",
       "      <td>2023-06-21 12:46</td>\n",
       "      <td>11960988</td>\n",
       "      <td>FILE</td>\n",
       "      <td>/apex/dtk23.04/</td>\n",
       "      <td>https://cancon.hpccube.com:65024/file/4/apex/d...</td>\n",
       "    </tr>\n",
       "    <tr>\n",
       "      <th>7</th>\n",
       "      <td>apex-0.1+f49ddd4.abi1.dtk2304.torch1.10-cp38-c...</td>\n",
       "      <td>2023-06-21 12:46</td>\n",
       "      <td>11954183</td>\n",
       "      <td>FILE</td>\n",
       "      <td>/apex/dtk23.04/</td>\n",
       "      <td>https://cancon.hpccube.com:65024/file/4/apex/d...</td>\n",
       "    </tr>\n",
       "    <tr>\n",
       "      <th>8</th>\n",
       "      <td>apex-0.1+f49ddd4.abi1.dtk2304.torch1.10-cp39-c...</td>\n",
       "      <td>2023-06-21 12:46</td>\n",
       "      <td>11947044</td>\n",
       "      <td>FILE</td>\n",
       "      <td>/apex/dtk23.04/</td>\n",
       "      <td>https://cancon.hpccube.com:65024/file/4/apex/d...</td>\n",
       "    </tr>\n",
       "    <tr>\n",
       "      <th>9</th>\n",
       "      <td>apex-0.1+f49ddd4.abi1.dtk2304.torch1.13-cp37-c...</td>\n",
       "      <td>2023-06-21 12:47</td>\n",
       "      <td>12604016</td>\n",
       "      <td>FILE</td>\n",
       "      <td>/apex/dtk23.04/</td>\n",
       "      <td>https://cancon.hpccube.com:65024/file/4/apex/d...</td>\n",
       "    </tr>\n",
       "    <tr>\n",
       "      <th>10</th>\n",
       "      <td>apex-0.1+f49ddd4.abi1.dtk2304.torch1.13-cp38-c...</td>\n",
       "      <td>2023-06-21 12:47</td>\n",
       "      <td>12570761</td>\n",
       "      <td>FILE</td>\n",
       "      <td>/apex/dtk23.04/</td>\n",
       "      <td>https://cancon.hpccube.com:65024/file/4/apex/d...</td>\n",
       "    </tr>\n",
       "    <tr>\n",
       "      <th>11</th>\n",
       "      <td>apex-0.1+f49ddd4.abi1.dtk2304.torch1.13-cp39-c...</td>\n",
       "      <td>2023-06-21 12:47</td>\n",
       "      <td>12561089</td>\n",
       "      <td>FILE</td>\n",
       "      <td>/apex/dtk23.04/</td>\n",
       "      <td>https://cancon.hpccube.com:65024/file/4/apex/d...</td>\n",
       "    </tr>\n",
       "  </tbody>\n",
       "</table>\n",
       "</div>"
      ],
      "text/plain": [
       "                                                 name              time  \\\n",
       "0   apex-0.1+f49ddd4.abi0.dtk2304.torch1.10-cp37-c...  2023-06-21 12:46   \n",
       "1   apex-0.1+f49ddd4.abi0.dtk2304.torch1.10-cp38-c...  2023-06-21 12:46   \n",
       "2   apex-0.1+f49ddd4.abi0.dtk2304.torch1.10-cp39-c...  2023-06-21 12:46   \n",
       "3   apex-0.1+f49ddd4.abi0.dtk2304.torch1.13-cp37-c...  2023-06-21 12:46   \n",
       "4   apex-0.1+f49ddd4.abi0.dtk2304.torch1.13-cp38-c...  2023-06-21 12:46   \n",
       "5   apex-0.1+f49ddd4.abi0.dtk2304.torch1.13-cp39-c...  2023-06-21 12:46   \n",
       "6   apex-0.1+f49ddd4.abi1.dtk2304.torch1.10-cp37-c...  2023-06-21 12:46   \n",
       "7   apex-0.1+f49ddd4.abi1.dtk2304.torch1.10-cp38-c...  2023-06-21 12:46   \n",
       "8   apex-0.1+f49ddd4.abi1.dtk2304.torch1.10-cp39-c...  2023-06-21 12:46   \n",
       "9   apex-0.1+f49ddd4.abi1.dtk2304.torch1.13-cp37-c...  2023-06-21 12:47   \n",
       "10  apex-0.1+f49ddd4.abi1.dtk2304.torch1.13-cp38-c...  2023-06-21 12:47   \n",
       "11  apex-0.1+f49ddd4.abi1.dtk2304.torch1.13-cp39-c...  2023-06-21 12:47   \n",
       "\n",
       "        size  type             path  \\\n",
       "0   11619213  FILE  /apex/dtk23.04/   \n",
       "1   11624760  FILE  /apex/dtk23.04/   \n",
       "2   11624331  FILE  /apex/dtk23.04/   \n",
       "3   12254105  FILE  /apex/dtk23.04/   \n",
       "4   12257547  FILE  /apex/dtk23.04/   \n",
       "5   12246955  FILE  /apex/dtk23.04/   \n",
       "6   11960988  FILE  /apex/dtk23.04/   \n",
       "7   11954183  FILE  /apex/dtk23.04/   \n",
       "8   11947044  FILE  /apex/dtk23.04/   \n",
       "9   12604016  FILE  /apex/dtk23.04/   \n",
       "10  12570761  FILE  /apex/dtk23.04/   \n",
       "11  12561089  FILE  /apex/dtk23.04/   \n",
       "\n",
       "                                                  url  \n",
       "0   https://cancon.hpccube.com:65024/file/4/apex/d...  \n",
       "1   https://cancon.hpccube.com:65024/file/4/apex/d...  \n",
       "2   https://cancon.hpccube.com:65024/file/4/apex/d...  \n",
       "3   https://cancon.hpccube.com:65024/file/4/apex/d...  \n",
       "4   https://cancon.hpccube.com:65024/file/4/apex/d...  \n",
       "5   https://cancon.hpccube.com:65024/file/4/apex/d...  \n",
       "6   https://cancon.hpccube.com:65024/file/4/apex/d...  \n",
       "7   https://cancon.hpccube.com:65024/file/4/apex/d...  \n",
       "8   https://cancon.hpccube.com:65024/file/4/apex/d...  \n",
       "9   https://cancon.hpccube.com:65024/file/4/apex/d...  \n",
       "10  https://cancon.hpccube.com:65024/file/4/apex/d...  \n",
       "11  https://cancon.hpccube.com:65024/file/4/apex/d...  "
      ]
     },
     "execution_count": 17,
     "metadata": {},
     "output_type": "execute_result"
    }
   ],
   "source": [
    "file_list = pd.DataFrame(resp[\"data\"][\"files\"])\n",
    "file_list"
   ]
  },
  {
   "cell_type": "code",
   "execution_count": 18,
   "metadata": {},
   "outputs": [
    {
     "data": {
      "text/plain": [
       "False"
      ]
     },
     "execution_count": 18,
     "metadata": {},
     "output_type": "execute_result"
    }
   ],
   "source": [
    "file = File(resp[\"data\"][\"files\"][11])\n",
    "file.isDir()"
   ]
  },
  {
   "cell_type": "code",
   "execution_count": 32,
   "metadata": {},
   "outputs": [],
   "source": [
    "resp = session.request(\n",
    "    method=\"get\",\n",
    "    url=\"https://cancon.hpccube.com:65024/file/1/devtoolset-7.3.1.tar.gz\",\n",
    "    headers={\n",
    "        \"Content-Range\": \"bytes 413543-88863570/88863571\"\n",
    "    },\n",
    "    stream=True\n",
    ")"
   ]
  },
  {
   "cell_type": "code",
   "execution_count": 33,
   "metadata": {},
   "outputs": [
    {
     "data": {
      "text/plain": [
       "{'Cache-Control': 'private', 'Access-Control-Allow-Headers': 'Origin, X-Requested-With, Content-Type, Accept', 'Access-Control-Allow-Methods': 'GET, POST, PUT, DELETE, OPTIONS', 'Access-Control-Allow-Credentials': 'true', 'Access-Control-Max-Age': '3600', 'Accept-Ranges': 'bytes', 'Content-Disposition': 'application/x-gzip;filename=devtoolset-7.3.1.tar.gz', 'Content-Range': 'bytes 0-88863570/88863571', 'Content-Type': 'application/x-gzip', 'Content-Length': '88863571', 'Date': 'Wed, 26 Jul 2023 08:22:48 GMT', 'Keep-Alive': 'timeout=60', 'Connection': 'keep-alive'}"
      ]
     },
     "execution_count": 33,
     "metadata": {},
     "output_type": "execute_result"
    }
   ],
   "source": [
    "resp.headers"
   ]
  },
  {
   "cell_type": "code",
   "execution_count": 19,
   "metadata": {},
   "outputs": [],
   "source": [
    "dder = Downloader(session)"
   ]
  },
  {
   "cell_type": "code",
   "execution_count": 20,
   "metadata": {},
   "outputs": [
    {
     "name": "stderr",
     "output_type": "stream",
     "text": [
      "                                                                                                                                [00:01<00:00, 11.3MB/s]\r"
     ]
    },
    {
     "data": {
      "text/plain": [
       "'/apex/dtk23.04/'"
      ]
     },
     "execution_count": 20,
     "metadata": {},
     "output_type": "execute_result"
    }
   ],
   "source": [
    "dder.Download(file, saveDir=\"./downloads\")"
   ]
  },
  {
   "cell_type": "code",
   "execution_count": null,
   "metadata": {},
   "outputs": [
    {
     "data": {
      "text/plain": [
       "'https://cancon.hpccube.com:65024/file/4/ReleaseNote_AI生态包.pdf'"
      ]
     },
     "execution_count": 15,
     "metadata": {},
     "output_type": "execute_result"
    }
   ],
   "source": [
    "file_list.iloc[31][\"url\"]"
   ]
  }
 ],
 "metadata": {
  "kernelspec": {
   "display_name": "spider",
   "language": "python",
   "name": "python3"
  },
  "language_info": {
   "codemirror_mode": {
    "name": "ipython",
    "version": 3
   },
   "file_extension": ".py",
   "mimetype": "text/x-python",
   "name": "python",
   "nbconvert_exporter": "python",
   "pygments_lexer": "ipython3",
   "version": "3.10.12"
  },
  "orig_nbformat": 4
 },
 "nbformat": 4,
 "nbformat_minor": 2
}
